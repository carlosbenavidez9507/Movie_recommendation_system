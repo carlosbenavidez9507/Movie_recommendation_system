{
 "cells": [
  {
   "cell_type": "markdown",
   "metadata": {},
   "source": [
    "### Seminario de Bases de Datos- UdeA 2020-1\n",
    "#### Sistema de recomendación de peliculas con Spark- Trabajo Final"
   ]
  },
  {
   "cell_type": "markdown",
   "metadata": {},
   "source": [
    "Departamento de Ingeniería de Sistemas   \n",
    "Universidad de Antioquia, Medellín, Colombia  \n",
    "Carlos Alberto Benavidez, carlos.benavidez@udea.edu.co    \n",
    "Juan Camilo Rojas, juan.rojas9@udea.edu.co "
   ]
  },
  {
   "cell_type": "markdown",
   "metadata": {},
   "source": [
    "<img src=Imagenes/movies_r.png>"
   ]
  },
  {
   "cell_type": "markdown",
   "metadata": {},
   "source": [
    "**Contextualización:** En el presente Notebook contiene la implemetación de un sistema de recomendación  de peliculas basado en Spark. Para ello se trabajo con dos bases de datos que fueron de recuperados del sitio [Groupleans](https://grouplens.org/datasets/movielens/).   \n",
    "La primera base de dato consiste en un archivo con 100.000 calificaciones que evaluaban 9.000 peliculas.  \n",
    "Las calificacaciones  de las peliculas fueron realizadas por un total de 600 usuarios. La primera base de datos fue utilizada para determinar los mejores parametros del modelo que ayudara a  predecir cuales seran las peliculas que un usuario podria visualizar con mayor probabilidad. Esta base de datos se encuentra contenida de la carpeta ml-latest-small.  \n",
    "Una vez se hallan determinado los mejores parametros, se procedera a hacer el entrenamiento con una base de datos que contiene mas registros, con el preposito de que el sistema de recomendación desarrollo una mayor capacidad de predicción.  \n",
    "La segunda base de datos (**ratings.csv**) contiene 27.000.000 de calificaciones de  58.000 peliculas realizadas por 280.000 usuarios."
   ]
  },
  {
   "cell_type": "markdown",
   "metadata": {},
   "source": [
    "Las herramientas para la implementacion de este sistema de recomendación de peliculas que se emplearon fueron:\n",
    "* Python ( Librerias: \"Pandas\",\"pyspark\")\n",
    "* Spark version 3.0.1\n",
    "* Anaconda\n",
    "* Gestión de Versiones basadao en Git (Github)"
   ]
  },
  {
   "cell_type": "markdown",
   "metadata": {},
   "source": [
    "### ALS Alternatving Least Squere [1]"
   ]
  },
  {
   "cell_type": "markdown",
   "metadata": {},
   "source": [
    "Alternating Least Square (ALS) is also a matrix factorization algorithm and it runs itself in a parallel fashion. ALS is implemented in Apache Spark ML and built for a larges-scale collaborative filtering problems. ALS is doing a pretty good job at solving scalability and sparseness of the Ratings data, and it’s simple and scales well to very large datasets."
   ]
  },
  {
   "cell_type": "markdown",
   "metadata": {},
   "source": [
    "<img src=Imagenes/als-illustration.png>"
   ]
  },
  {
   "cell_type": "markdown",
   "metadata": {},
   "source": [
    "#### Inicializacion de Spark"
   ]
  },
  {
   "cell_type": "code",
   "execution_count": 1,
   "metadata": {},
   "outputs": [],
   "source": [
    "import pandas as pd"
   ]
  },
  {
   "cell_type": "code",
   "execution_count": 2,
   "metadata": {},
   "outputs": [],
   "source": [
    "import findspark"
   ]
  },
  {
   "cell_type": "code",
   "execution_count": 3,
   "metadata": {},
   "outputs": [],
   "source": [
    "findspark.init('C:\\BigData\\Spark')"
   ]
  },
  {
   "cell_type": "code",
   "execution_count": 4,
   "metadata": {},
   "outputs": [
    {
     "data": {
      "text/plain": [
       "'C:\\\\BigData\\\\Spark'"
      ]
     },
     "execution_count": 4,
     "metadata": {},
     "output_type": "execute_result"
    }
   ],
   "source": [
    "findspark.init()\n",
    "findspark.find()"
   ]
  },
  {
   "cell_type": "code",
   "execution_count": 5,
   "metadata": {},
   "outputs": [],
   "source": [
    "from pyspark import SparkContext, SparkConf\n",
    "from pyspark.sql import SparkSession\n",
    "from pyspark.sql import SQLContext\n",
    "from pyspark import Row\n",
    "import re "
   ]
  },
  {
   "cell_type": "code",
   "execution_count": 7,
   "metadata": {},
   "outputs": [],
   "source": [
    "environment_to_connect = 'local'\n",
    "SparkContext.setSystemProperty('spark.executor.memory', '2g') #We have to extend the memory capacity\n",
    "conf = SparkConf().setAppName(\"SparkRecommendationfull\").setMaster(environment_to_connect)\n",
    "sc = SparkContext.getOrCreate(conf)\n",
    "spark = SparkSession(sc)\n"
   ]
  },
  {
   "cell_type": "markdown",
   "metadata": {},
   "source": [
    "### Working with RDD, (rating_rdd)"
   ]
  },
  {
   "cell_type": "code",
   "execution_count": 8,
   "metadata": {},
   "outputs": [],
   "source": [
    "ratings_rdd=sc.textFile('ml-latest/ratings.csv') #Obtener los datos del archivo de ratings del directorio"
   ]
  },
  {
   "cell_type": "code",
   "execution_count": 10,
   "metadata": {},
   "outputs": [
    {
     "data": {
      "text/plain": [
       "['userId,movieId,rating,timestamp',\n",
       " '1,307,3.5,1256677221',\n",
       " '1,481,3.5,1256677456',\n",
       " '1,1091,1.5,1256677471',\n",
       " '1,1257,4.5,1256677460',\n",
       " '1,1449,4.5,1256677264',\n",
       " '1,1590,2.5,1256677236',\n",
       " '1,1591,1.5,1256677475',\n",
       " '1,2134,4.5,1256677464',\n",
       " '1,2478,4.0,1256677239']"
      ]
     },
     "execution_count": 10,
     "metadata": {},
     "output_type": "execute_result"
    }
   ],
   "source": [
    "ratings_rdd.take(10) #Muestra"
   ]
  },
  {
   "cell_type": "code",
   "execution_count": 11,
   "metadata": {},
   "outputs": [],
   "source": [
    "data_header_ratings = ratings_rdd.take(1)[0] #Obtener el encabezado"
   ]
  },
  {
   "cell_type": "markdown",
   "metadata": {},
   "source": [
    "### Getting the rating_data"
   ]
  },
  {
   "cell_type": "code",
   "execution_count": 12,
   "metadata": {},
   "outputs": [],
   "source": [
    "# Eliminar el encabezado y el timestamp y tokenizar el user_id movie_id y timestamp\n",
    "ratings_data = ratings_rdd.filter(lambda line: line!=data_header_ratings)\\\n",
    ".map(lambda line: line.split(\",\"))\\\n",
    ".map(lambda tokens: (tokens[0],tokens[1],tokens[2]))\n"
   ]
  },
  {
   "cell_type": "code",
   "execution_count": 13,
   "metadata": {},
   "outputs": [
    {
     "data": {
      "text/plain": [
       "[('1', '307', '3.5'),\n",
       " ('1', '481', '3.5'),\n",
       " ('1', '1091', '1.5'),\n",
       " ('1', '1257', '4.5'),\n",
       " ('1', '1449', '4.5'),\n",
       " ('1', '1590', '2.5'),\n",
       " ('1', '1591', '1.5'),\n",
       " ('1', '2134', '4.5'),\n",
       " ('1', '2478', '4.0'),\n",
       " ('1', '2840', '3.0')]"
      ]
     },
     "execution_count": 13,
     "metadata": {},
     "output_type": "execute_result"
    }
   ],
   "source": [
    "ratings_data.take(10) #Muestra "
   ]
  },
  {
   "cell_type": "markdown",
   "metadata": {},
   "source": [
    "### Getting the movies"
   ]
  },
  {
   "cell_type": "code",
   "execution_count": 14,
   "metadata": {},
   "outputs": [],
   "source": [
    "movies_rdd=sc.textFile('ml-latest/movies.csv') #Obtener los datos del archivo de las peliculas del directorio\n",
    "data_header_movies = movies_rdd.take(1)[0]"
   ]
  },
  {
   "cell_type": "code",
   "execution_count": 15,
   "metadata": {},
   "outputs": [
    {
     "data": {
      "text/plain": [
       "[('1', 'Toy Story (1995)', 'Adventure|Animation|Children|Comedy|Fantasy'),\n",
       " ('2', 'Jumanji (1995)', 'Adventure|Children|Fantasy'),\n",
       " ('3', 'Grumpier Old Men (1995)', 'Comedy|Romance'),\n",
       " ('4', 'Waiting to Exhale (1995)', 'Comedy|Drama|Romance'),\n",
       " ('5', 'Father of the Bride Part II (1995)', 'Comedy')]"
      ]
     },
     "execution_count": 15,
     "metadata": {},
     "output_type": "execute_result"
    }
   ],
   "source": [
    "# Tokenizar las columnasmovie_id, titulo y genero\n",
    "movies_data=movies_rdd.filter(lambda line: line!=data_header_movies)\\\n",
    ".map(lambda line: line.split(\",\"))\\\n",
    ".map(lambda tokens: (tokens[0],tokens[1],tokens[2])).cache()\n",
    "movies_data.take(5)"
   ]
  },
  {
   "cell_type": "markdown",
   "metadata": {},
   "source": [
    "### Working with ALS (collaborative filtering algorithm)"
   ]
  },
  {
   "cell_type": "code",
   "execution_count": 16,
   "metadata": {},
   "outputs": [],
   "source": [
    "# Cargar las librerias AlS \n",
    "from pyspark.mllib.recommendation import ALS\n",
    "import math"
   ]
  },
  {
   "cell_type": "markdown",
   "metadata": {},
   "source": [
    "### The best parameters"
   ]
  },
  {
   "cell_type": "markdown",
   "metadata": {},
   "source": [
    "Los mejores parametros fueron tomados empleando un algoritmo para hallar el error mini empleando en metodo de minimos cuadradoscon un menor dataset de peliculas y raings sacado de: \n",
    "[Movie_recommendation_system](https://github.com/carlosbenavidez9507/Movie_recommendation_system/blob/main/Recommendation_Spark.ipynb)\n"
   ]
  },
  {
   "cell_type": "code",
   "execution_count": 19,
   "metadata": {},
   "outputs": [],
   "source": [
    "rank = 4\n",
    "iterations = 10"
   ]
  },
  {
   "cell_type": "markdown",
   "metadata": {},
   "source": [
    "### Splitting the data into training and test"
   ]
  },
  {
   "cell_type": "code",
   "execution_count": 23,
   "metadata": {},
   "outputs": [],
   "source": [
    "training, test= ratings_data.randomSplit([7,3]) # se usa un porcentaje de 70% y de 30%"
   ]
  },
  {
   "cell_type": "code",
   "execution_count": 24,
   "metadata": {},
   "outputs": [
    {
     "data": {
      "text/plain": [
       "8319934"
      ]
     },
     "execution_count": 24,
     "metadata": {},
     "output_type": "execute_result"
    }
   ],
   "source": [
    "test.count()"
   ]
  },
  {
   "cell_type": "code",
   "execution_count": 25,
   "metadata": {},
   "outputs": [
    {
     "data": {
      "text/plain": [
       "19433510"
      ]
     },
     "execution_count": 25,
     "metadata": {},
     "output_type": "execute_result"
    }
   ],
   "source": [
    "training.count()"
   ]
  },
  {
   "cell_type": "markdown",
   "metadata": {},
   "source": [
    "### Parameters [4]"
   ]
  },
  {
   "cell_type": "markdown",
   "metadata": {},
   "source": [
    "* **NumFactors:** The number of latent factors to use for the underlying model. It is equivalent to the dimension of the calculated user and item vectors. (Default value: 10) \n",
    "* **Lambda:** Regularization factor. Tune this value in order to avoid overfitting or poor performance due to strong generalization. (Default value: 1)\n",
    "* **Iterations:** The maximum number of iterations. (Default value: 10)\n",
    "* **Blocks**: The number of blocks into which the user and item matrix are grouped. The fewer blocks one uses, the less data is sent redundantly. However, bigger blocks entail bigger update messages which have to be stored on the heap. If the algorithm fails because of an OutOfMemoryException, then try to increase the number of blocks. (Default value: None)  \n",
    "* **Seed**: Random seed used to generate the initial item matrix for the algorithm. (Default value: 0)\n",
    "* **TemporaryPath:** Path to a temporary directory into which intermediate results are stored. If this value is set, then the algorithm is split into two preprocessing steps, the ALS iteration and a post-processing step which calculates a last ALS half-step. The preprocessing steps calculate the OutBlockInformation and InBlockInformation for the given rating matrix. The results of the individual steps are stored in the specified directory. By splitting the algorithm into multiple smaller steps, Flink does not have to split the available memory amongst too many operators. This allows the system to process bigger individual messages and improves the overall performance. (Default value: None)"
   ]
  },
  {
   "cell_type": "markdown",
   "metadata": {},
   "source": [
    "### Training the model"
   ]
  },
  {
   "cell_type": "code",
   "execution_count": 26,
   "metadata": {},
   "outputs": [],
   "source": [
    "model = ALS.train(training, rank, iterations) "
   ]
  },
  {
   "cell_type": "code",
   "execution_count": 27,
   "metadata": {},
   "outputs": [],
   "source": [
    "test_for_predict_RDD = test.map(lambda x: (x[0], x[1])) #se asigna una clave conid_user, id_movie"
   ]
  },
  {
   "cell_type": "markdown",
   "metadata": {},
   "source": [
    "### Making prediction"
   ]
  },
  {
   "cell_type": "code",
   "execution_count": 29,
   "metadata": {},
   "outputs": [
    {
     "name": "stdout",
     "output_type": "stream",
     "text": [
      "Mean Squared Error = 0.8396068189587629\n"
     ]
    }
   ],
   "source": [
    "# con base en la id_user, id_movie y rating model.predictAll() predecira raitings de peliculas para todos los usuarios\n",
    "predictions = model.predictAll(test_for_predict_RDD).map(lambda r: ((r[0], r[1]), r[2]))\n",
    "# Unir las predicciones con los datos actuales de la matriz de ratings mapeados por su clave y valor\n",
    "rates_and_preds = test.map(lambda r: ((int(r[0]), int(r[1])), float(r[2]))).join(predictions)\n",
    "# hallar la media del error cuadrado\n",
    "error = math.sqrt(rates_and_preds.map(lambda r: (r[1][0] - r[1][1])**2).mean())    \n",
    "print(\"Mean Squared Error = \" + str(error))"
   ]
  },
  {
   "cell_type": "markdown",
   "metadata": {},
   "source": [
    "### About the movies"
   ]
  },
  {
   "cell_type": "code",
   "execution_count": 32,
   "metadata": {},
   "outputs": [
    {
     "data": {
      "text/plain": [
       "[(1, 'Toy Story (1995)'),\n",
       " (2, 'Jumanji (1995)'),\n",
       " (3, 'Grumpier Old Men (1995)'),\n",
       " (4, 'Waiting to Exhale (1995)'),\n",
       " (5, 'Father of the Bride Part II (1995)')]"
      ]
     },
     "execution_count": 32,
     "metadata": {},
     "output_type": "execute_result"
    }
   ],
   "source": [
    "# Eliminar los generos de las peliclas para crear una lista de solo peliculas con su clave\n",
    "movies_titles = movies_data.map(lambda x: (int(x[0]),x[1])) \n",
    "movies_titles.take(5)"
   ]
  },
  {
   "cell_type": "code",
   "execution_count": 35,
   "metadata": {},
   "outputs": [
    {
     "name": "stdout",
     "output_type": "stream",
     "text": [
      "There are 58098  movies in the complete dataset\n"
     ]
    }
   ],
   "source": [
    "print (\"There are\", str(movies_titles.count()),\" movies in the complete dataset\") #muestra"
   ]
  },
  {
   "cell_type": "code",
   "execution_count": 41,
   "metadata": {},
   "outputs": [
    {
     "data": {
      "text/plain": [
       "[('307', '3.5'),\n",
       " ('481', '3.5'),\n",
       " ('1091', '1.5'),\n",
       " ('1257', '4.5'),\n",
       " ('1449', '4.5')]"
      ]
     },
     "execution_count": 41,
     "metadata": {},
     "output_type": "execute_result"
    }
   ],
   "source": [
    "# se hace un mapeo de las peliculas por su calificacion y su id\n",
    "group_of_rating_movie = ratings_data.map(lambda x: (x[1], x[2]))\n",
    "group_of_rating_movie.take(5)"
   ]
  },
  {
   "cell_type": "code",
   "execution_count": 43,
   "metadata": {},
   "outputs": [],
   "source": [
    "# se mapea las peliculas por el usuario que la califico\n",
    "tmp_group=group_of_rating_movie.map(lambda x: x[0])"
   ]
  },
  {
   "cell_type": "code",
   "execution_count": 51,
   "metadata": {},
   "outputs": [],
   "source": [
    "# se agrupa el numero de calificaciones por peliculas\n",
    "timo=(tmp_group.map(lambda x: (x, 1)).reduceByKey(lambda x, y: x + y))"
   ]
  },
  {
   "cell_type": "code",
   "execution_count": 53,
   "metadata": {},
   "outputs": [],
   "source": [
    "timito=movies_titles"
   ]
  },
  {
   "cell_type": "code",
   "execution_count": 54,
   "metadata": {},
   "outputs": [],
   "source": [
    "descriptio_movies=timito.map(lambda p: Row(id_movie=p[0], description=p[1]))"
   ]
  },
  {
   "cell_type": "markdown",
   "metadata": {},
   "source": [
    "### Working with SQL Queries"
   ]
  },
  {
   "cell_type": "code",
   "execution_count": 62,
   "metadata": {},
   "outputs": [],
   "source": [
    "dfmaping5 = spark.createDataFrame(descriptio_movies)\n",
    "dfmaping5.createOrReplaceTempView(\"descriptio_movies\")\n",
    "tabla5 = spark.sql(\"SELECT mapingMovies.id_movie, mapingMovies.frecuency,descriptio_movies.description  FROM mapingMovies INNER JOIN descriptio_movies on mapingMovies.id_movie=descriptio_movies.id_movie   order by frecuency desc\")\n"
   ]
  },
  {
   "cell_type": "code",
   "execution_count": 63,
   "metadata": {},
   "outputs": [
    {
     "name": "stdout",
     "output_type": "stream",
     "text": [
      "+--------+---------+--------------------+\n",
      "|id_movie|frecuency|         description|\n",
      "+--------+---------+--------------------+\n",
      "|     318|    97999|\"Shawshank Redemp...|\n",
      "|     356|    97040| Forrest Gump (1994)|\n",
      "|     296|    92406| Pulp Fiction (1994)|\n",
      "|     593|    87899|\"Silence of the L...|\n",
      "|    2571|    84545|             \"Matrix|\n",
      "|     260|    81815|Star Wars: Episod...|\n",
      "|     480|    76451|Jurassic Park (1993)|\n",
      "|     527|    71516|Schindler's List ...|\n",
      "|     110|    68803|   Braveheart (1995)|\n",
      "|       1|    68469|    Toy Story (1995)|\n",
      "|    1210|    66023|Star Wars: Episod...|\n",
      "|    1196|    65822|Star Wars: Episod...|\n",
      "|    2959|    65678|   Fight Club (1999)|\n",
      "|     589|    64258|Terminator 2: Jud...|\n",
      "|    1198|    63505|Raiders of the Lo...|\n",
      "|      50|    62180|     \"Usual Suspects|\n",
      "|    4993|    61883|\"Lord of the Ring...|\n",
      "|     858|    60904|          \"Godfather|\n",
      "|    2858|    60820|American Beauty (...|\n",
      "|     780|    58949|Independence Day ...|\n",
      "+--------+---------+--------------------+\n",
      "only showing top 20 rows\n",
      "\n"
     ]
    }
   ],
   "source": [
    "tabla5.show()"
   ]
  },
  {
   "cell_type": "markdown",
   "metadata": {},
   "source": [
    "### How many ratings per movie "
   ]
  },
  {
   "cell_type": "code",
   "execution_count": 52,
   "metadata": {},
   "outputs": [
    {
     "name": "stdout",
     "output_type": "stream",
     "text": [
      "+--------+---------+\n",
      "|id_movie|frecuency|\n",
      "+--------+---------+\n",
      "|     318|    97999|\n",
      "|     356|    97040|\n",
      "|     296|    92406|\n",
      "|     593|    87899|\n",
      "|    2571|    84545|\n",
      "|     260|    81815|\n",
      "|     480|    76451|\n",
      "|     527|    71516|\n",
      "|     110|    68803|\n",
      "|       1|    68469|\n",
      "|    1210|    66023|\n",
      "|    1196|    65822|\n",
      "|    2959|    65678|\n",
      "|     589|    64258|\n",
      "|    1198|    63505|\n",
      "|      50|    62180|\n",
      "|    4993|    61883|\n",
      "|     858|    60904|\n",
      "|    2858|    60820|\n",
      "|     780|    58949|\n",
      "+--------+---------+\n",
      "only showing top 20 rows\n",
      "\n"
     ]
    }
   ],
   "source": [
    "mapingMovies= timo.map(lambda p : Row(id_movie=p[0], frecuency=p[1]))\n",
    "dfmaping4 = spark.createDataFrame(mapingMovies)\n",
    "dfmaping4.createOrReplaceTempView(\"mapingMovies\")\n",
    "tabla4 = spark.sql(\"SELECT id_movie , frecuency FROM mapingMovies order by frecuency desc\")\n",
    "tabla4.show()"
   ]
  },
  {
   "cell_type": "markdown",
   "metadata": {},
   "source": [
    "### Adding new user ratings"
   ]
  },
  {
   "cell_type": "code",
   "execution_count": 69,
   "metadata": {},
   "outputs": [],
   "source": [
    "# Se añade un nuevo usuario con algunas calificaciones de peliculas\n",
    "\n",
    "new_user_ID = 0\n",
    "#  (userID, movieID, rating)\n",
    "dummy_user_ratings = [\n",
    "     (0,260,9), # Star Wars (1977)\n",
    "     (0,1,8), # Toy Story (1995)\n",
    "     (0,16,7), # Casino (1995)\n",
    "     (0,25,8), # Leaving Las Vegas (1995)\n",
    "     (0,32,9), # Twelve Monkeys (a.k.a. 12 Monkeys) (1995)\n",
    "     (0,335,4), # Flintstones, The (1994)\n",
    "     (0,379,3), # Timecop (1994)\n",
    "     (0,296,7), # Pulp Fiction (1994)\n",
    "     (0,858,10) , # Godfather, The (1972)\n",
    "     (0,50,8) # Usual Suspects, The (1995)\n",
    "    ]\n",
    "new_user_ratings_RDD = sc.parallelize(dummy_user_ratings)"
   ]
  },
  {
   "cell_type": "code",
   "execution_count": 71,
   "metadata": {},
   "outputs": [],
   "source": [
    "# La informacion se convierte en un RDD\n",
    "data_with_new_ratings_RDD = ratings_data.union(new_user_ratings_RDD)"
   ]
  },
  {
   "cell_type": "markdown",
   "metadata": {},
   "source": [
    "### Training the model with the new input "
   ]
  },
  {
   "cell_type": "code",
   "execution_count": 72,
   "metadata": {},
   "outputs": [],
   "source": [
    "nw_model = ALS.train(data_with_new_ratings_RDD, rank, iterations)"
   ]
  },
  {
   "cell_type": "code",
   "execution_count": 77,
   "metadata": {},
   "outputs": [],
   "source": [
    "# no vuelva aparecer en el id de las peliculas del usuario\n",
    "new_user_ratings_ids = map(lambda x: x[1], dummy_user_ratings) # get just movie IDs"
   ]
  },
  {
   "cell_type": "code",
   "execution_count": 82,
   "metadata": {},
   "outputs": [],
   "source": [
    "# rescata las peliculas q no han sido seleccionadas \n",
    "unrated_movies_user = (movies_titles.filter(lambda x: x[0] not in new_user_ratings_ids).map(lambda x: (new_user_ID, x[0])))"
   ]
  },
  {
   "cell_type": "markdown",
   "metadata": {},
   "source": [
    "### Making the new prediction"
   ]
  },
  {
   "cell_type": "code",
   "execution_count": 83,
   "metadata": {},
   "outputs": [],
   "source": [
    "# realizar una nueva prediccion para las peliculas que no ha visto el usuario\n",
    "new_recommendations_RDD = nw_model.predictAll(unrated_movies_user)"
   ]
  },
  {
   "cell_type": "code",
   "execution_count": 173,
   "metadata": {},
   "outputs": [
    {
     "data": {
      "text/plain": [
       "[Rating(user=0, product=116688, rating=1.6033434923158865),\n",
       " Rating(user=0, product=32196, rating=4.657505672617084),\n",
       " Rating(user=0, product=138744, rating=5.1833602040377915),\n",
       " Rating(user=0, product=81132, rating=3.117377536245579),\n",
       " Rating(user=0, product=81324, rating=5.2379959457766105),\n",
       " Rating(user=0, product=7020, rating=6.6483911271058105),\n",
       " Rating(user=0, product=136596, rating=8.673700498887683),\n",
       " Rating(user=0, product=134328, rating=4.780101462674151),\n",
       " Rating(user=0, product=138348, rating=5.182443584613017),\n",
       " Rating(user=0, product=60408, rating=5.159327474067133)]"
      ]
     },
     "execution_count": 173,
     "metadata": {},
     "output_type": "execute_result"
    }
   ],
   "source": [
    "new_recommendations_RDD.take(10)"
   ]
  },
  {
   "cell_type": "code",
   "execution_count": 91,
   "metadata": {},
   "outputs": [
    {
     "data": {
      "text/plain": [
       "53888"
      ]
     },
     "execution_count": 91,
     "metadata": {},
     "output_type": "execute_result"
    }
   ],
   "source": [
    "new_recommendations_RDD.count()"
   ]
  },
  {
   "cell_type": "code",
   "execution_count": 86,
   "metadata": {},
   "outputs": [],
   "source": [
    "new_user_recommendations_rating_RDD = new_recommendations_RDD.map(lambda x: (x.product, x.rating))"
   ]
  },
  {
   "cell_type": "code",
   "execution_count": 94,
   "metadata": {},
   "outputs": [
    {
     "data": {
      "text/plain": [
       "[(116688, 1.6033434923158865),\n",
       " (32196, 4.657505672617084),\n",
       " (138744, 5.1833602040377915),\n",
       " (81132, 3.117377536245579),\n",
       " (81324, 5.2379959457766105)]"
      ]
     },
     "execution_count": 94,
     "metadata": {},
     "output_type": "execute_result"
    }
   ],
   "source": [
    "new_user_recommendations_rating_RDD .take(5)"
   ]
  },
  {
   "cell_type": "code",
   "execution_count": 87,
   "metadata": {},
   "outputs": [],
   "source": [
    "# Concatenar el las peliculas calificadas del usuario con las calificaciones de las peliculas predictas\n",
    "new_user_recommendations_rating_title_and_count_RDD = \\\n",
    "    new_user_recommendations_rating_RDD.join(movies_titles)"
   ]
  },
  {
   "cell_type": "markdown",
   "metadata": {},
   "source": [
    "### Predicted Training"
   ]
  },
  {
   "cell_type": "code",
   "execution_count": 90,
   "metadata": {},
   "outputs": [
    {
     "data": {
      "text/plain": [
       "[(116688, (1.6033434923158865, 'Prime Evil (1988)')),\n",
       " (7020, (6.6483911271058105, 'Proof (1991)')),\n",
       " (5928, (4.094505136857857, '\"Border')),\n",
       " (53352, (1.5919378376473539, 'Sheitan (2006)')),\n",
       " (4992, (3.6223134947038815, 'Kate & Leopold (2001)')),\n",
       " (162396, (0.5027394875178217, 'Skiptrace (2016)')),\n",
       " (1716, (2.6884069931046866, '\"Other Voices')),\n",
       " (72228, (5.414885002673417, 'Creation (2009)')),\n",
       " (83616, (8.579623580633182, '\"Real McCoy')),\n",
       " (77688,\n",
       "  (6.5649538047104805,\n",
       "   'Three Men and a Cradle (3 hommes et un couffin) (1985)')),\n",
       " (117312, (1.8187179947083276, 'The ABCs of Death 2 (2014)')),\n",
       " (106080, (3.8634028517977654, 'Fragment of Fear (1970)')),\n",
       " (107172, (-4.519814433447564, 'Ways to Live Forever (2010)')),\n",
       " (95628, (6.440686160494206, \"Red's Dream (1987)\")),\n",
       " (5148, (4.490166697412283, 'Black Like Me (1964)')),\n",
       " (153192, (8.211688369727113, 'How to Become Myself (2007)')),\n",
       " (153348, (5.329586310322478, 'The Matrimony (2007)')),\n",
       " (6552, (6.95290110711904, 'Dirty Pretty Things (2002)')),\n",
       " (1092, (5.712393055181694, 'Basic Instinct (1992)')),\n",
       " (128544, (10.398406553905112, 'Hits (2014)'))]"
      ]
     },
     "execution_count": 90,
     "metadata": {},
     "output_type": "execute_result"
    }
   ],
   "source": [
    "new_user_recommendations_rating_title_and_count_RDD.take(20)"
   ]
  },
  {
   "cell_type": "code",
   "execution_count": 112,
   "metadata": {},
   "outputs": [],
   "source": [
    "def get_counts_and_averages(ID_and_ratings_tuple):\n",
    "    nratings = len(ID_and_ratings_tuple[1])\n",
    "    return ID_and_ratings_tuple[0], (nratings, float(sum(x for x in ID_and_ratings_tuple[1]))/nratings)\n"
   ]
  },
  {
   "cell_type": "code",
   "execution_count": 175,
   "metadata": {},
   "outputs": [],
   "source": [
    "# Calificaciones asociadas a todas la pelicula\n",
    "movie_ID_with_ratings_RDD = ratings_data.map(lambda x: (x[1], x[2])).groupByKey()\n",
    "movie_ID_with_avg_ratings_RDD = movie_ID_with_ratings_RDD.map(get_counts_and_averages)\n",
    "movie_rating_counts_RDD = movie_ID_with_avg_ratings_RDD.map(lambda x: (x[0], x[1][0]))"
   ]
  },
  {
   "cell_type": "code",
   "execution_count": 176,
   "metadata": {},
   "outputs": [
    {
     "data": {
      "text/plain": [
       "[('3826', <pyspark.resultiterable.ResultIterable at 0x12cbed97e80>),\n",
       " ('104', <pyspark.resultiterable.ResultIterable at 0x12cbee58278>),\n",
       " ('153', <pyspark.resultiterable.ResultIterable at 0x12cbf029320>),\n",
       " ('165', <pyspark.resultiterable.ResultIterable at 0x12cbed97630>),\n",
       " ('181', <pyspark.resultiterable.ResultIterable at 0x12cbf755d68>)]"
      ]
     },
     "execution_count": 176,
     "metadata": {},
     "output_type": "execute_result"
    }
   ],
   "source": [
    "movie_ID_with_ratings_RDD.take(5)"
   ]
  },
  {
   "cell_type": "markdown",
   "metadata": {},
   "source": [
    "### Average rating "
   ]
  },
  {
   "cell_type": "code",
   "execution_count": 177,
   "metadata": {},
   "outputs": [],
   "source": [
    "# promedio de calificacion de cada pelicula\n",
    "ri=movie_ID_with_ratings_RDD.map(lambda x: (int(x[0]),(sum(float(i) for i in list(x[1])))/len(list(x[1]))))"
   ]
  },
  {
   "cell_type": "code",
   "execution_count": 178,
   "metadata": {},
   "outputs": [
    {
     "data": {
      "text/plain": [
       "[(3826, 2.5461339626882444),\n",
       " (104, 3.3942778801636178),\n",
       " (153, 2.9020622558025204),\n",
       " (165, 3.5077587042963825),\n",
       " (181, 1.9860046651116294),\n",
       " (253, 3.5052233084147977),\n",
       " (423, 3.008343508343508),\n",
       " (494, 3.3739313292884723),\n",
       " (762, 2.414987080103359),\n",
       " (1396, 3.6338256484149856)]"
      ]
     },
     "execution_count": 178,
     "metadata": {},
     "output_type": "execute_result"
    }
   ],
   "source": [
    "ri.take(10)"
   ]
  },
  {
   "cell_type": "code",
   "execution_count": 181,
   "metadata": {},
   "outputs": [],
   "source": [
    "# numero de evaluaciones por pelicula\n",
    "ra=movie_ID_with_ratings_RDD.map(lambda x: (int(x[0]),len(list(x[1]))))"
   ]
  },
  {
   "cell_type": "code",
   "execution_count": 182,
   "metadata": {},
   "outputs": [
    {
     "data": {
      "text/plain": [
       "[(3826, 8898)]"
      ]
     },
     "execution_count": 182,
     "metadata": {},
     "output_type": "execute_result"
    }
   ],
   "source": [
    "ra.take(1)"
   ]
  },
  {
   "cell_type": "code",
   "execution_count": 179,
   "metadata": {},
   "outputs": [],
   "source": [
    "predit=new_user_recommendations_rating_title_and_count_RDD.join(ri)"
   ]
  },
  {
   "cell_type": "code",
   "execution_count": 180,
   "metadata": {},
   "outputs": [
    {
     "data": {
      "text/plain": [
       "53888"
      ]
     },
     "execution_count": 180,
     "metadata": {},
     "output_type": "execute_result"
    }
   ],
   "source": [
    "predit.count()"
   ]
  },
  {
   "cell_type": "code",
   "execution_count": 183,
   "metadata": {},
   "outputs": [
    {
     "data": {
      "text/plain": [
       "[(3826, 8898),\n",
       " (104, 22247),\n",
       " (153, 38647),\n",
       " (165, 41244),\n",
       " (181, 3001),\n",
       " (253, 31302),\n",
       " (423, 2457),\n",
       " (494, 14504),\n",
       " (762, 11610),\n",
       " (1396, 13880)]"
      ]
     },
     "execution_count": 183,
     "metadata": {},
     "output_type": "execute_result"
    }
   ],
   "source": [
    "ra.take(10)"
   ]
  },
  {
   "cell_type": "markdown",
   "metadata": {},
   "source": [
    "### Prediction plus Average Raiting"
   ]
  },
  {
   "cell_type": "code",
   "execution_count": 185,
   "metadata": {},
   "outputs": [
    {
     "data": {
      "text/plain": [
       "[(7020, ((6.6483911271058105, 'Proof (1991)'), 3.6684350132625996)),\n",
       " (53352, ((1.5919378376473539, 'Sheitan (2006)'), 2.73728813559322)),\n",
       " (162396, ((0.5027394875178217, 'Skiptrace (2016)'), 2.992957746478873)),\n",
       " (77688,\n",
       "  ((6.5649538047104805,\n",
       "    'Three Men and a Cradle (3 hommes et un couffin) (1985)'),\n",
       "   3.26)),\n",
       " (107172,\n",
       "  ((-4.519814433447564, 'Ways to Live Forever (2010)'), 2.9166666666666665)),\n",
       " (5148, ((4.490166697412283, 'Black Like Me (1964)'), 3.13265306122449)),\n",
       " (6552,\n",
       "  ((6.95290110711904, 'Dirty Pretty Things (2002)'), 3.7538280329799765)),\n",
       " (120276, ((10.910280733097615, 'Symphony of the Soil (2012)'), 3.5)),\n",
       " (117468, ((6.782766733962799, 'Leontine (1968)'), 3.75)),\n",
       " (7488,\n",
       "  ((5.499456165879572, \"Berkeley in the '60s (1990)\"), 3.5754716981132075))]"
      ]
     },
     "execution_count": 185,
     "metadata": {},
     "output_type": "execute_result"
    }
   ],
   "source": [
    "# id pelicula, calificiacion, descripcion y promedio\n",
    "predit.take(10)"
   ]
  },
  {
   "cell_type": "code",
   "execution_count": 186,
   "metadata": {},
   "outputs": [],
   "source": [
    "# se concatena la informacion obtenida \n",
    "cbe=predit.join(ra)"
   ]
  },
  {
   "cell_type": "code",
   "execution_count": 188,
   "metadata": {},
   "outputs": [],
   "source": [
    "#idMovie, Rating,Title,Avarage_rating,number of calification"
   ]
  },
  {
   "cell_type": "code",
   "execution_count": 187,
   "metadata": {},
   "outputs": [
    {
     "data": {
      "text/plain": [
       "[(82836, (((8.173770480240421, '\"Life of Reilly'), 4.05), 10)),\n",
       " (72216, (((6.941365717690999, 'Fun is Beautiful (1980)'), 3.5), 5)),\n",
       " (99828, (((4.454620762760526, '\"Unloved'), 3.0), 10)),\n",
       " (89208,\n",
       "  (((-0.24894194710554274, 'Walled In (2009)'), 2.4545454545454546), 22)),\n",
       " (144432,\n",
       "  (((12.110979729288715, 'Hindsight (2011)'), 3.5454545454545454), 11)),\n",
       " (106200, (((1.362721242371073, 'Hours (2013)'), 3.0083333333333333), 60)),\n",
       " (133812, (((4.482705562268945, 'Malarek (1988)'), 2.0), 1)),\n",
       " (123192,\n",
       "  (((3.506352450057882,\n",
       "     'The Land Before Time XI: Invasion of the Tinysauruses (2005)'),\n",
       "    2.74),\n",
       "   25)),\n",
       " (167796, (((6.2200321490352515, 'Lace Crater (2015)'), 3.0), 1)),\n",
       " (140184, (((0.5322806392729444, 'Kingdom Come (2014)'), 1.75), 2))]"
      ]
     },
     "execution_count": 187,
     "metadata": {},
     "output_type": "execute_result"
    }
   ],
   "source": [
    "cbe.take(10)"
   ]
  },
  {
   "cell_type": "code",
   "execution_count": 208,
   "metadata": {},
   "outputs": [],
   "source": [
    "tope_raiting=cbe.map(lambda x: (x[0],x[1][0][0][1],x[1][0][0][0],x[1][0][1],x[1][1]))"
   ]
  },
  {
   "cell_type": "code",
   "execution_count": 209,
   "metadata": {},
   "outputs": [
    {
     "data": {
      "text/plain": [
       "[(82836, '\"Life of Reilly', 8.173770480240421, 4.05, 10),\n",
       " (72216, 'Fun is Beautiful (1980)', 6.941365717690999, 3.5, 5),\n",
       " (99828, '\"Unloved', 4.454620762760526, 3.0, 10),\n",
       " (89208, 'Walled In (2009)', -0.24894194710554274, 2.4545454545454546, 22),\n",
       " (144432, 'Hindsight (2011)', 12.110979729288715, 3.5454545454545454, 11)]"
      ]
     },
     "execution_count": 209,
     "metadata": {},
     "output_type": "execute_result"
    }
   ],
   "source": [
    "# id pelicula, calificiacion, predicicion y la calificacion promedio y numero de evaluaciones\n",
    "tope_raiting.take(5)"
   ]
  },
  {
   "cell_type": "code",
   "execution_count": 210,
   "metadata": {},
   "outputs": [],
   "source": [
    "description_top_full=tope_raiting.map(lambda p: Row(id_movie=p[0], description=p[1],rat_pred=p[2],rat_people=p[3],num_class=p[4]))"
   ]
  },
  {
   "cell_type": "code",
   "execution_count": 228,
   "metadata": {},
   "outputs": [],
   "source": [
    "# se toma en cuenta la mayoria de las calificaciones de la peliculas \n",
    "dfmaping7 = spark.createDataFrame(description_top_full)\n",
    "dfmaping7.createOrReplaceTempView(\"description_top_full\")\n",
    "tabla7 = spark.sql(\"SELECT id_movie, description,rat_pred,rat_people,num_class FROM description_top_full where num_class>100  order by rat_pred desc limit 25\")\n"
   ]
  },
  {
   "cell_type": "code",
   "execution_count": 229,
   "metadata": {},
   "outputs": [
    {
     "name": "stdout",
     "output_type": "stream",
     "text": [
      "+--------+--------------------+-----------------+------------------+---------+\n",
      "|id_movie|         description|         rat_pred|        rat_people|num_class|\n",
      "+--------+--------------------+-----------------+------------------+---------+\n",
      "|  134252|That Munchhausen ...|9.946149883380144|3.9951923076923075|      104|\n",
      "|    4993|\"Lord of the Ring...| 9.59727298599667|4.0979428922321155|    61883|\n",
      "|    7153|\"Lord of the Ring...|9.508771821041329| 4.102853009864408|    57378|\n",
      "|    5952|\"Lord of the Ring...|9.495517197718872| 4.074705446592352|    56696|\n",
      "|  159819|         Life (2009)|9.478605335986913| 4.183734939759036|      166|\n",
      "|     858|          \"Godfather|9.392935532028801| 4.332892749244713|    60904|\n",
      "|  100553|Frozen Planet (2011)|9.278043527242602| 4.108208955223881|      402|\n",
      "|   86504|Voices from the L...|9.199760046588125| 4.124444444444444|     1800|\n",
      "|   93040|          \"Civil War|9.192630580533987|4.0742459396751745|      431|\n",
      "|     527|Schindler's List ...|9.188816069830942| 4.257501817775044|    71516|\n",
      "|  170705|Band of Brothers ...|9.169728135978843| 4.399898373983739|      984|\n",
      "|    1221| \"Godfather: Part II|9.117237413294802|4.2630353697749195|    38875|\n",
      "|  147328|The Adventures of...|9.050970193336745| 4.124113475177305|      141|\n",
      "|    1196|Star Wars: Episod...|9.002774634073425| 4.133481206891313|    65822|\n",
      "|     260|Star Wars: Episod...|8.979097168096875| 4.120454684348836|    81815|\n",
      "|  159817| Planet Earth (2006)|8.969596104831489| 4.458092485549133|     1384|\n",
      "|  172591|The Godfather Tri...|8.836842984691984| 4.339667458432304|      421|\n",
      "|     318|\"Shawshank Redemp...|8.814987964930978| 4.424188001918387|    97999|\n",
      "|  171011|Planet Earth II (...|8.808162839370844|4.4865181711606095|      853|\n",
      "|  142115|The Blue Planet (...|8.751568286672281|4.2137767220902616|      421|\n",
      "+--------+--------------------+-----------------+------------------+---------+\n",
      "only showing top 20 rows\n",
      "\n"
     ]
    }
   ],
   "source": [
    "# prediccion de las peliculas que se ajustan a la calificacion del usuario\n",
    "tabla7.show()"
   ]
  },
  {
   "cell_type": "code",
   "execution_count": 189,
   "metadata": {},
   "outputs": [],
   "source": [
    "#Pruebas\n",
    "\n",
    "top_new_user=new_user_recommendations_rating_title_and_count_RDD.map(lambda x: (x[0],x[1][0],x[1][1]))"
   ]
  },
  {
   "cell_type": "code",
   "execution_count": 190,
   "metadata": {},
   "outputs": [
    {
     "data": {
      "text/plain": [
       "[(116688, 1.6033434923158865, 'Prime Evil (1988)'),\n",
       " (7020, 6.6483911271058105, 'Proof (1991)'),\n",
       " (5928, 4.094505136857857, '\"Border'),\n",
       " (53352, 1.5919378376473539, 'Sheitan (2006)'),\n",
       " (4992, 3.6223134947038815, 'Kate & Leopold (2001)')]"
      ]
     },
     "execution_count": 190,
     "metadata": {},
     "output_type": "execute_result"
    }
   ],
   "source": [
    "top_new_user.take(5)"
   ]
  },
  {
   "cell_type": "code",
   "execution_count": 191,
   "metadata": {},
   "outputs": [],
   "source": [
    "description_top=top_new_user.map(lambda p: Row(id_movie=p[0], description=p[2],rat=p[1]))"
   ]
  },
  {
   "cell_type": "code",
   "execution_count": 226,
   "metadata": {},
   "outputs": [],
   "source": [
    "dfmaping6 = spark.createDataFrame(description_top)\n",
    "dfmaping6.createOrReplaceTempView(\"description_top\")\n",
    "tabla6 = spark.sql(\"SELECT id_movie, description as Titulo_de_la_pelicula,rat FROM description_top where  order by rat desc limit 25\")\n"
   ]
  },
  {
   "cell_type": "code",
   "execution_count": 227,
   "metadata": {},
   "outputs": [
    {
     "name": "stdout",
     "output_type": "stream",
     "text": [
      "+--------+---------------------+------------------+\n",
      "|id_movie|Titulo_de_la_pelicula|               rat|\n",
      "+--------+---------------------+------------------+\n",
      "|    2958| Naturally Native ...| 29.66444448241168|\n",
      "|   39191|    Blue Vinyl (2002)|29.549312948653437|\n",
      "|  164809| Two-Legged Horse ...|27.840926480522626|\n",
      "|  183053| An Insignificant ...|27.821871047637387|\n",
      "|  190239| The World of Stai...|26.043097457542643|\n",
      "|  108214|      \"Prize of Peril|25.658081732326863|\n",
      "|  154256| The Great Global ...|24.897666282399257|\n",
      "|  125930| Björk at the Roya...|24.540265961029405|\n",
      "|  185211|        Heroes (2008)|24.133265195369663|\n",
      "|  158832|     The Store (1983)|24.020912300069703|\n",
      "|  185259| It Happened in Pe...|23.845375683509587|\n",
      "|  182521|       Thakara (1979)|23.605410195185357|\n",
      "|  123044|    Stalingrad (1989)|23.602145493795994|\n",
      "|  133339|          1915 (2015)|23.335834644766813|\n",
      "|  168314| Be My Cat: A Film...| 23.30457692736836|\n",
      "|  177619|    Cold Tango (2017)|22.777794696015178|\n",
      "|  187987| \"Pro Fedota-streltsa| 22.56914615095681|\n",
      "|  174817| Femmes femmes (1974)| 22.21041445080786|\n",
      "|  130042|         Found (2012)| 22.08049960344721|\n",
      "|  173775|     Kommunist (1958)| 21.93894586643635|\n",
      "+--------+---------------------+------------------+\n",
      "only showing top 20 rows\n",
      "\n"
     ]
    }
   ],
   "source": [
    "tabla6.show()"
   ]
  },
  {
   "cell_type": "markdown",
   "metadata": {},
   "source": [
    "**Referencias**:  \n",
    "[1] https://databricks.com/blog/2014/07/23/scalable-collaborative-filtering-with-spark-mllib.html  \n",
    "[2] https://spark.apache.org/docs/latest/api/python/index.html  \n",
    "[3] https://github.com/jadianes/spark-movie-lens  \n",
    "[4] https://ci.apache.org/projects/flink/flink-docs-release-1.2/dev/libs/ml/als.html#:~:text=Examples-,Description,R%E2%89%88UTV.&text=Since%20matrix%20factorization%20can%20be,user%20and%20item%20matrix%2C%20respectively."
   ]
  }
 ],
 "metadata": {
  "kernelspec": {
   "display_name": "Python 3",
   "language": "python",
   "name": "python3"
  },
  "language_info": {
   "codemirror_mode": {
    "name": "ipython",
    "version": 3
   },
   "file_extension": ".py",
   "mimetype": "text/x-python",
   "name": "python",
   "nbconvert_exporter": "python",
   "pygments_lexer": "ipython3",
   "version": "3.8.3"
  }
 },
 "nbformat": 4,
 "nbformat_minor": 2
}
